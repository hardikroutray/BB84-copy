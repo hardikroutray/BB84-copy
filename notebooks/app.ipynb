{
 "cells": [
  {
   "cell_type": "code",
   "execution_count": 10,
   "id": "70c51052",
   "metadata": {},
   "outputs": [],
   "source": [
    "import warnings\n",
    "warnings.simplefilter('ignore')"
   ]
  },
  {
   "cell_type": "code",
   "execution_count": 11,
   "id": "8d78ec96",
   "metadata": {},
   "outputs": [],
   "source": [
    "from ipywidgets import interact, interactive, fixed, interact_manual\n",
    "from IPython.core.display import display, HTML\n",
    "from IPython.display import clear_output\n",
    "\n",
    "import numpy as np\n",
    "import pandas as pd\n",
    "import matplotlib.pyplot as plt\n",
    "import plotly.express as px\n",
    "# import folium\n",
    "import plotly.graph_objects as go\n",
    "import seaborn as sns\n",
    "import ipywidgets as widgets\n",
    "import random\n",
    "from numpy.random import randint, shuffle\n",
    "from ipywidgets import Checkbox\n",
    "# !wget https://raw.githubusercontent.com/germanesosa/ipywidget-autocomplete/master/autoFill.py\n",
    "# import autoFill as af\n",
    "# from ipywidgets import HTML, HBox"
   ]
  },
  {
   "cell_type": "code",
   "execution_count": 12,
   "id": "73894023",
   "metadata": {},
   "outputs": [],
   "source": [
    "# HTML(\"\"\"\n",
    "# <style>\n",
    "# .output_png {\n",
    "#     display: table-cell;\n",
    "#     text-align: center;\n",
    "#     vertical-align: middle;\n",
    "# }\n",
    "# </style>\n",
    "# \"\"\")\n",
    "\n",
    "# CSS = \"\"\"\n",
    "# .output {\n",
    "#     align-items: center;\n",
    "# }\n",
    "# \"\"\"\n",
    "\n",
    "# HTML('<style>{}</style>'.format(CSS))\n",
    "\n",
    "# HTML(\"\"\"<style>\n",
    "# .text_cell_render {\n",
    "# font-family: Times New Roman, serif;\n",
    "# }\n",
    "# </style>\n",
    "# \"\"\")"
   ]
  },
  {
   "cell_type": "markdown",
   "id": "5d150de6",
   "metadata": {},
   "source": [
    "## <center> BB84 protocol with phase covariant cloning"
   ]
  },
  {
   "cell_type": "markdown",
   "id": "2f7d978b",
   "metadata": {},
   "source": [
    "### Step 1: Alice performs encoding \n",
    "\n",
    "##### Input the bitstring length (accepts only positive integers) to generate a random bitstring alongwith randomly generated bases for Alice\n",
    "\n",
    "##### Only equatorial bases are used instead of Z basis as in intercept-resend BB84 attack \n",
    "\n",
    "X basis             |  Y basis\n",
    ":-------------------------:|:-------------------------:\n",
    "<img src=\"./images/xbasis_0.png\" width=\"150\">        |        <img src=\"./images/ybasis_0.png\" width=\"150\">\n"
   ]
  },
  {
   "cell_type": "code",
   "execution_count": 13,
   "id": "59d3d551",
   "metadata": {},
   "outputs": [
    {
     "data": {
      "application/vnd.jupyter.widget-view+json": {
       "model_id": "8a65a5646b154777b6f10c43fad79cd4",
       "version_major": 2,
       "version_minor": 0
      },
      "text/plain": [
       "interactive(children=(Text(value='5', description='length'), Output()), _dom_classes=('widget-interact',))"
      ]
     },
     "metadata": {},
     "output_type": "display_data"
    },
    {
     "data": {
      "application/vnd.jupyter.widget-view+json": {
       "model_id": "658392b625dc42d987fde9bf9a0a36d3",
       "version_major": 2,
       "version_minor": 0
      },
      "text/plain": [
       "VBox(children=(FigureWidget({\n",
       "    'data': [], 'layout': {'template': '...'}\n",
       "}),), layout=Layout(border='solid …"
      ]
     },
     "metadata": {},
     "output_type": "display_data"
    }
   ],
   "source": [
    "\n",
    "\n",
    "fig = go.FigureWidget( layout=go.Layout() )\n",
    "\n",
    "def generate_bits(N):\n",
    "    bits = randint(0, 2, N)\n",
    "    return bits\n",
    "\n",
    "def generate_bases(N):\n",
    "    bases = randint(0, 2, N)\n",
    "    bases = [\"X\" if bases[i] == 0 else \"Y\" for i in range(N)]\n",
    "    return bases\n",
    "\n",
    "def make_df(length = \"5\"):\n",
    "    length = length.strip()\n",
    "    if length == \"\":\n",
    "        return None\n",
    "    \n",
    "    df = pd.DataFrame({\"Alice bits\": generate_bits(int(length)), \"Alice bases\": generate_bases(int(length))})   \n",
    "\n",
    "    df.to_csv(\"temp.csv\",index=False)\n",
    "    \n",
    "    return df.style.hide_index()\n",
    "\n",
    "\n",
    "interact(make_df, length='5')\n",
    "ipywLayout = widgets.Layout(border='solid 2px green')\n",
    "ipywLayout.display='none' # uncomment this, run cell again - then the graph/figure disappears\n",
    "widgets.VBox([fig], layout=ipywLayout)\n",
    "\n"
   ]
  },
  {
   "cell_type": "markdown",
   "id": "77376a71",
   "metadata": {},
   "source": [
    "### Step 2: Eve eavesdrops using cloning\n",
    "\n",
    "##### Use the slider to change the cloning angle $\\Theta_{1}$\n",
    "##### Click on the \"Clone\" button to perform cloning. It also acts as a reset button. "
   ]
  },
  {
   "cell_type": "markdown",
   "id": "041accde",
   "metadata": {},
   "source": [
    "#### <center> Circuit for cloning qubit 0 in X basis with $\\Theta_{1}$ = $\\frac{\\pi}{4}$             \n",
    "\n",
    "<center> <img  src=\"./images/circuit_image.png\"> "
   ]
  },
  {
   "cell_type": "code",
   "execution_count": 27,
   "id": "1f8c01c8",
   "metadata": {},
   "outputs": [
    {
     "data": {
      "application/vnd.jupyter.widget-view+json": {
       "model_id": "ff28d30961f44de9947bbabb90f5fb55",
       "version_major": 2,
       "version_minor": 0
      },
      "text/plain": [
       "VBox(children=(FloatSlider(value=2.0, description='$\\\\Theta_{1} ( {\\\\small\\\\times} \\\\frac{\\\\pi}{8})$', max=2.9…"
      ]
     },
     "metadata": {},
     "output_type": "display_data"
    }
   ],
   "source": [
    "slider = widgets.FloatSlider(description=r'$\\Theta_{1} ( {\\small\\times} \\frac{\\pi}{8})$',min=1.1,max=2.91,step=0.1,value=2)\n",
    "\n",
    "theta1_in = 2 * (np.pi/8)\n",
    "theta2_in = 0.5 * np.arccos(np.cos(2*theta1_in)/np.sin(2*theta1_in))\n",
    "theta3_in = np.arctan(np.tan(theta1_in) * np.tan(theta2_in))\n",
    "\n",
    "text1 = widgets.FloatText(disabled=True, description=r'$\\Theta_{1} (rad)$', value=round(theta1_in,4))\n",
    "text2 = widgets.FloatText(disabled=True, description=r'$\\Theta_{2} (rad)$', value=round(theta2_in,4))\n",
    "text3 = widgets.FloatText(disabled=True, description=r'$\\Theta_{3} (rad)$',value=round(theta3_in,4))\n",
    "\n",
    "\n",
    "def compute(*ignore):\n",
    "    text1.value = str(round(slider.value * (np.pi/8),4))\n",
    "#     text2.value = str(slider.value)\n",
    "#     text3.value = str(slider.value)\n",
    "    \n",
    "    theta1 = slider.value * (np.pi/8)\n",
    "    if theta1 <= np.pi/4:\n",
    "        theta2 = 0.5 * np.arccos(np.cos(2*theta1)/np.sin(2*theta1))\n",
    "    if theta1 > np.pi/4:\n",
    "        theta2 = 0.5 * np.arccos(-np.cos(2*theta1)/np.sin(2*theta1))\n",
    "        \n",
    "    theta3 = np.arctan(np.tan(theta1) * np.tan(theta2))\n",
    "    \n",
    "    text2.value = str(round(theta2,4))\n",
    "    text3.value = str(round(theta3,4))\n",
    "    \n",
    "slider.observe(compute, 'value')\n",
    "\n",
    "# slider.value = 4\n",
    "# interact(f, x=widgets.IntSlider(min=-10,max=30,step=1,value=10))\n",
    "\n",
    "widgets.VBox([slider, text1,text2,text3])"
   ]
  },
  {
   "cell_type": "code",
   "execution_count": 31,
   "id": "991a657e",
   "metadata": {},
   "outputs": [],
   "source": [
    "# def on_value_change(change):\n",
    "#     newval = slider.value\n",
    "# #     n.value = str(int(r.value * fp.value * ne.value * fl.value * fi.value * fc.value * l.value)) + \" civilizations\" \n",
    "\n",
    "# slider.observe(on_value_change)\n",
    "# # slider.observe(on_value_change)\n",
    "# print(newval)"
   ]
  },
  {
   "cell_type": "code",
   "execution_count": 15,
   "id": "abd22182",
   "metadata": {},
   "outputs": [],
   "source": [
    "\n",
    "\n",
    "# button = widgets.Button(description=\"Clone!\")\n",
    "# output = widgets.Output()\n",
    "\n",
    "# display(button, output)\n",
    "\n",
    "\n",
    "# def on_button_clicked(b):\n",
    "    \n",
    "# #     pred_df = wid.result\n",
    "# #     pred_df = pred_df1.sort_values(by='Predicted returns', ascending=False)\n",
    "#     with output:\n",
    "# #         clear_output(wait = False)\n",
    "# #         display(pred_df.head(10))\n",
    "#         df1 = pd.read_csv(\"temp.csv\")\n",
    "#         df1[\"Eve\"] = [\"Clones\"]*df1.shape[0]\n",
    "#         clear_output(wait=True)    \n",
    "#         display(df1.style.hide_index())\n",
    "    \n",
    "\n",
    "# button.on_click(on_button_clicked)"
   ]
  },
  {
   "cell_type": "code",
   "execution_count": 16,
   "id": "7f220528",
   "metadata": {},
   "outputs": [],
   "source": [
    "# df1 = pd.read_csv(\"temp.csv\")\n",
    "# df1[\"Eve\"] = [\"Clones\"]*df1.shape[0]\n",
    "# df1.style.hide_index()"
   ]
  },
  {
   "cell_type": "code",
   "execution_count": 35,
   "id": "d302ac8c",
   "metadata": {},
   "outputs": [],
   "source": [
    "\n",
    "# print(slider.value,text1.value, text2.value, text3.value)\n",
    "\n",
    "theta1s_raw = np.linspace(1.1,2.9,19)\n",
    "# print(theta1s_raw)\n",
    "theta1s = np.pi/8 * theta1s_raw\n",
    "\n",
    "probbob_theory = []\n",
    "probeve_theory = []\n",
    "errbob_theory = []\n",
    "erreve_theory = []\n",
    "\n",
    "for val in theta1s:\n",
    "    probbob_theory.append(0.5 * (1 + np.sin(2 * val)))\n",
    "    probeve_theory.append(0.5 * (1 + np.abs(np.cos(2 * val))))\n",
    "    errbob_theory.append(1 - (0.5 * (1 + np.sin(2 * val))))\n",
    "    erreve_theory.append(1 - (0.5 * (1 + np.abs(np.cos(2 * val)))))\n",
    "\n",
    "\n",
    "def computeprob():\n",
    "    \n",
    "    slider.observe(compute, 'value')\n",
    "#     print(slider.value)\n",
    "    \n",
    "    idx = list(theta1s_raw).index(slider.value)\n",
    "    probbob = probbob_theory[idx]\n",
    "    probeve = probeve_theory[idx]\n",
    "    \n",
    "    return probbob, probeve\n",
    "\n",
    "# print(idx,probbob,probeve)"
   ]
  },
  {
   "cell_type": "markdown",
   "id": "9b204135",
   "metadata": {},
   "source": [
    "####    <center> Theoretical Fidelity as a function of $\\Theta_{1}$ for Bob and Eve \n",
    "    \n",
    "<center> <img  src=\"./images/fidelity.png\"> "
   ]
  },
  {
   "cell_type": "code",
   "execution_count": 51,
   "id": "6f542fc0",
   "metadata": {},
   "outputs": [],
   "source": [
    "\n",
    "# plt.figure(figsize=(8,4))\n",
    "# plt.rcParams.update({'font.size': 22})\n",
    "\n",
    "# plt.plot(theta1s,probbob_theory,\"-o\",label=\"Bob\")\n",
    "# plt.plot(theta1s,probeve_theory,\"-o\",label=\"Eve\")\n",
    "\n",
    "# plt.ylim(0.4,1.1)\n",
    "# plt.xlabel(r\"$\\Theta_{1}$ (rad)\") #($\\times \\frac{\\pi}{8}$)\n",
    "# plt.ylabel(\"Fidelity\")\n",
    "\n",
    "# # plt.legend(title=\"Message bit = 0, X basis\")\n",
    "# plt.show()\n"
   ]
  },
  {
   "cell_type": "code",
   "execution_count": 18,
   "id": "e0c1b9e0",
   "metadata": {},
   "outputs": [
    {
     "data": {
      "application/vnd.jupyter.widget-view+json": {
       "model_id": "6f7d01e9e8a24363863f78d794cc03f2",
       "version_major": 2,
       "version_minor": 0
      },
      "text/plain": [
       "Button(description='Clone!', style=ButtonStyle())"
      ]
     },
     "metadata": {},
     "output_type": "display_data"
    },
    {
     "data": {
      "application/vnd.jupyter.widget-view+json": {
       "model_id": "289c209029d545a5acef01ed71345b5f",
       "version_major": 2,
       "version_minor": 0
      },
      "text/plain": [
       "Output()"
      ]
     },
     "metadata": {},
     "output_type": "display_data"
    }
   ],
   "source": [
    "button = widgets.Button(description=\"Clone!\")\n",
    "output = widgets.Output()\n",
    "\n",
    "display(button, output)\n",
    "\n",
    "\n",
    "def on_button_clicked(b):\n",
    "    \n",
    "#     pred_df = wid.result\n",
    "#     pred_df = pred_df1.sort_values(by='Predicted returns', ascending=False)\n",
    "    with output:\n",
    "#         clear_output(wait = False)\n",
    "#         display(pred_df.head(10))\n",
    "        df1 = pd.read_csv(\"temp.csv\")\n",
    "        df1[\"Eve\"] = [\"Clones\"]*df1.shape[0]\n",
    "        clear_output(wait=True)    \n",
    "        display(df1.style.hide_index())\n",
    "    \n",
    "\n",
    "button.on_click(on_button_clicked)"
   ]
  },
  {
   "cell_type": "code",
   "execution_count": 19,
   "id": "ce550e88",
   "metadata": {},
   "outputs": [],
   "source": [
    "\n",
    "# box1 = widgets.Checkbox(True, description='Cloning Attack')\n",
    "# # display(box1)\n",
    "\n",
    "# box2 = widgets.Checkbox(False, description='Direct Attack')\n",
    "# # display(box2)\n",
    "\n",
    "# widgets.HBox([box1, box2])\n"
   ]
  },
  {
   "cell_type": "markdown",
   "id": "a9a7e2bf",
   "metadata": {},
   "source": [
    "### Step 3: Bob does sifting and measurement\n",
    "\n",
    "##### Click on the button below to randomly generate bases for Bob and also display Bob's measurement results after Eve's cloning"
   ]
  },
  {
   "cell_type": "code",
   "execution_count": 20,
   "id": "9a7f7b26",
   "metadata": {},
   "outputs": [],
   "source": [
    "# df2 = df1\n",
    "# df2[\"Bob bases\"] =  generate_bases(df2.shape[0]) \n",
    "\n",
    "# def sifting(alice_bases,bob_bases):\n",
    "#     agreed_base_indices = [i for i in range(len(alice_bases)) if alice_bases[i] == bob_bases[i]]\n",
    "#     return agreed_base_indices\n",
    "\n",
    "# sifted_indices = sifting(df2['Alice bases'],df2['Bob bases']) \n",
    "# df1['Bob bits'] = None\n",
    "\n",
    "# try:\n",
    "#     df2 = df2.drop('Eve_bits', axis=1)\n",
    "# except:\n",
    "#     pass\n",
    "\n",
    "# for i in sifted_indices:\n",
    "#     if random.random() < probbob:\n",
    "#         df2['Bob bits'][i] = df2['Alice bits'][i]\n",
    "#     else:\n",
    "#         df2['Bob bits'][i] = int(not(df2['Alice bits'][i]))\n",
    "        "
   ]
  },
  {
   "cell_type": "code",
   "execution_count": 38,
   "id": "75bd6194",
   "metadata": {},
   "outputs": [
    {
     "data": {
      "application/vnd.jupyter.widget-view+json": {
       "model_id": "1d5c97858f104939a0db28a8c9ac34e4",
       "version_major": 2,
       "version_minor": 0
      },
      "text/plain": [
       "Button(description='Bob measures!', style=ButtonStyle())"
      ]
     },
     "metadata": {},
     "output_type": "display_data"
    },
    {
     "data": {
      "application/vnd.jupyter.widget-view+json": {
       "model_id": "b6547fe7d115422392ced8dcfa8c18e2",
       "version_major": 2,
       "version_minor": 0
      },
      "text/plain": [
       "Output()"
      ]
     },
     "metadata": {},
     "output_type": "display_data"
    }
   ],
   "source": [
    "\n",
    "def sifting(alice_bases,bob_bases):\n",
    "    agreed_base_indices = [i for i in range(len(alice_bases)) if alice_bases[i] == bob_bases[i]]\n",
    "    return agreed_base_indices\n",
    "\n",
    "button = widgets.Button(description=\"Bob measures!\")\n",
    "output = widgets.Output()\n",
    "\n",
    "display(button, output)\n",
    "\n",
    "# display(df1.style.hide_index())\n",
    "\n",
    "def on_button_clicked(b):\n",
    "    with output: \n",
    "        \n",
    "        df1 = pd.read_csv(\"temp.csv\")\n",
    "        df1[\"Eve\"] = [\"Clones\"]*df1.shape[0]\n",
    "        \n",
    "        df2 = df1\n",
    "        df2[\"Bob bases\"] =  generate_bases(df2.shape[0]) \n",
    "    \n",
    "        sifted_indices = sifting(df2['Alice bases'],df2['Bob bases']) \n",
    "        df2['Bob bits'] = \"\"\n",
    "        \n",
    "        probbob, probeve = computeprob()\n",
    "        \n",
    "        for i in sifted_indices:\n",
    "            if random.random() < probbob:\n",
    "                df2['Bob bits'][i] = df2['Alice bits'][i]\n",
    "            else:\n",
    "                df2['Bob bits'][i] = int(not(df2['Alice bits'][i]))\n",
    "        \n",
    "#         df2.to_csv(\"temp2.csv\",index=False)\n",
    "        \n",
    "        clear_output(wait=True)\n",
    "        display(df2.style.hide_index())\n",
    "\n",
    "        df3 = df2\n",
    "        df3['Eve bits'] = \"\"\n",
    "        \n",
    "        for i in sifted_indices:\n",
    "            if random.random() < probeve:\n",
    "                df3['Eve bits'][i] = df3['Alice bits'][i]\n",
    "            else:\n",
    "                df3['Eve bits'][i] = int(not(df3['Alice bits'][i]))\n",
    "\n",
    "        df3.to_csv(\"temp2.csv\",index=False)\n",
    "        \n",
    "#         print(probbob, \" \", probeve)\n",
    "        \n",
    "button.on_click(on_button_clicked)       "
   ]
  },
  {
   "cell_type": "markdown",
   "id": "ceb1035c",
   "metadata": {},
   "source": [
    "### Step 4: Eve performs delayed measurement\n",
    "\n",
    "##### Click on the button below to to display Eve's measurement results as well as QBER for both Bob and Eve. QBER is calculated using all the agreed base indices."
   ]
  },
  {
   "cell_type": "code",
   "execution_count": 22,
   "id": "9bfe67d4",
   "metadata": {},
   "outputs": [
    {
     "data": {
      "application/vnd.jupyter.widget-view+json": {
       "model_id": "6d76bcf7a5bf4b5bb756c4e91dec03f5",
       "version_major": 2,
       "version_minor": 0
      },
      "text/plain": [
       "Button(description='Measure!', style=ButtonStyle())"
      ]
     },
     "metadata": {},
     "output_type": "display_data"
    },
    {
     "data": {
      "application/vnd.jupyter.widget-view+json": {
       "model_id": "dd5d603203c74a6fb55325d7437146ed",
       "version_major": 2,
       "version_minor": 0
      },
      "text/plain": [
       "Output()"
      ]
     },
     "metadata": {},
     "output_type": "display_data"
    }
   ],
   "source": [
    "# df2 = pd.read_csv(\"temp2.csv\")\n",
    "# df3 = df2\n",
    "\n",
    "# df3['Bob bits'] = df3['Bob bits'].round().astype('Int64')\n",
    "# df3['Eve bits'] = \"\"\n",
    "\n",
    "# sifted_indices = sifting(df3['Alice bases'],df3['Bob bases']) \n",
    "\n",
    "# for i in sifted_indices:\n",
    "#     if random.random() < probeve:\n",
    "#         df3['Eve bits'][i] = df3['Alice bits'][i]\n",
    "#     else:\n",
    "#         df3['Eve bits'][i] = int(not(df3['Alice bits'][i]))\n",
    "\n",
    "def qber(alice_bits,bob_bits,agreed_base_indices):\n",
    "#     test_len = int(len(agreed_base_indices)*frac) + 1\n",
    "#     test_base_indices = sorted(random.sample(agreed_base_indices,test_len))\n",
    "    \n",
    "    alice_test_bits = []\n",
    "    bob_test_bits = []\n",
    "    \n",
    "    for i in agreed_base_indices:\n",
    "        alice_test_bits.append(alice_bits[i])\n",
    "        bob_test_bits.append(bob_bits[i])\n",
    "    \n",
    "    num_error = len([j for j in range(len(alice_test_bits)) if alice_test_bits[j] != bob_test_bits[j]])\n",
    "    \n",
    "    try:\n",
    "        error_rate = num_error / len(alice_test_bits)\n",
    "    except: \n",
    "        return -999\n",
    "    \n",
    "    return error_rate\n",
    "        \n",
    "button = widgets.Button(description=\"Measure!\")\n",
    "output = widgets.Output()\n",
    "\n",
    "display(button, output)\n",
    "\n",
    "# display(df1.style.hide_index())\n",
    "\n",
    "def on_button_clicked(b):\n",
    "    with output: \n",
    "        clear_output(wait=True)\n",
    "        \n",
    "        df4 = pd.read_csv(\"temp2.csv\")\n",
    "        df4['Bob bits'] = df4['Bob bits'].round().astype('Int64')\n",
    "        df4['Eve bits'] = df4['Eve bits'].round().astype('Int64')\n",
    "        \n",
    "        indices = df4[df4['Eve bits'].notnull()].index.tolist()\n",
    "#         print((indices))\n",
    "        \n",
    "        display(df4.style.hide_index())\n",
    "\n",
    "        print(\"The Quantum Bit Error Rate for Bob is \", np.round(qber(df4['Alice bits'],df4['Bob bits'],indices),4))\n",
    "        print(\"The Quantum Bit Error Rate for Eve is \", np.round(qber(df4['Alice bits'],df4['Eve bits'],indices),4))\n",
    "        \n",
    "        \n",
    "        \n",
    "button.on_click(on_button_clicked)  "
   ]
  },
  {
   "cell_type": "code",
   "execution_count": 151,
   "id": "066c8e0c",
   "metadata": {},
   "outputs": [],
   "source": [
    "# # Make the app\n",
    "# ##################################################\n",
    "\n",
    "# title_html = \"\"\"\n",
    "# <h2>Machine Learning Model Evaluation: Visual & Interactive</h2>\n",
    "\n",
    "# <ul style=\"line-height: 1.5\">\n",
    "#   <li>A classifier was trained to identify positive targets, here visualized as blue marbles (upper left).\n",
    "# The ratio of negative (white) and positive (blue) targets can be controlled via the slider.</li>\n",
    "\n",
    "#   <li>The strength-adjustable classifier then predicts a score from one to zero for each item (upper center and right).</li>\n",
    "  \n",
    "#   <li>Based on this score and an adjustable cutoff threshold, each item is classified as either positive or negative.\n",
    "# Correct or incorrect classification is highlighted with a green or red outline for each circle (lower left). \n",
    "# Subsequently, \n",
    "# <a href=\"https://en.wikipedia.org/wiki/Receiver_operating_characteristic\"> the ROC curve and the AUC value<a>\n",
    "# (lower center) as well as\n",
    "# <a href=\"https://en.wikipedia.org/wiki/Precision_and_recall\"> precision, recall</a> \n",
    "# and \n",
    "# <a href=\"https://en.wikipedia.org/wiki/Accuracy_and_precision#In_binary_classification\"> accuracy </a> \n",
    "# (lower right) can be calculated.</li>\n",
    "# </ul>\n",
    "# \"\"\"\n",
    "\n",
    "# description_html = \"\"\"\n",
    "# <style>\n",
    "# p {\n",
    "#     margin-bottom: 1.2em;\n",
    "#     line-height: 1.5;\n",
    "# }\n",
    "# </style>\n",
    "\n",
    "# <p>The effects of different configurations regarding class imbalance, model strength or cutoff threshold on evaluation metrics can be studied.\n",
    "# Also, the relationship between these metrics, e.g. the tradeoff between precision and recall, can be observed.</p>\n",
    "\n",
    "# <p>This allows e.g. to explore the problem with accuracy for unbalanced classes: In the case of few positive targets, \n",
    "# a weak classifier with a high threshold will yield a high accuracy simply due to labelling everything negative.</p>\n",
    "\n",
    "# <p>Source code <a href=\"https://github.com/dhaitz/machine-learning-interactive-visualization\"> here</a>. Ideas, suggestions and improvements welcome! /<a href=\"https://dhaitz.github.io\">dh</a></p>\n",
    "# \"\"\"\n",
    "# app_contents = [widgets.HTML(title_html, layout=widgets.Layout(margin='0 0 3em 0', max_width='800px')),\n",
    "#             widgets.HTML(description_html, layout=widgets.Layout(margin='3em 0 0 0', max_width='800px'))]\n",
    "# app = widgets.VBox(app_contents, layout=widgets.Layout(max_width='1024px', margin='0 auto 0 auto'))"
   ]
  },
  {
   "cell_type": "code",
   "execution_count": 150,
   "id": "78d01cc3",
   "metadata": {},
   "outputs": [],
   "source": [
    "# display(app)"
   ]
  },
  {
   "cell_type": "markdown",
   "id": "3717c9cb",
   "metadata": {},
   "source": [
    "#### <center> [Github](https://github.com/hardikroutray/BB84)"
   ]
  },
  {
   "cell_type": "code",
   "execution_count": null,
   "id": "defb63f6",
   "metadata": {},
   "outputs": [],
   "source": []
  }
 ],
 "metadata": {
  "kernelspec": {
   "display_name": "Python 3 (ipykernel)",
   "language": "python",
   "name": "python3"
  },
  "language_info": {
   "codemirror_mode": {
    "name": "ipython",
    "version": 3
   },
   "file_extension": ".py",
   "mimetype": "text/x-python",
   "name": "python",
   "nbconvert_exporter": "python",
   "pygments_lexer": "ipython3",
   "version": "3.9.9"
  }
 },
 "nbformat": 4,
 "nbformat_minor": 5
}
